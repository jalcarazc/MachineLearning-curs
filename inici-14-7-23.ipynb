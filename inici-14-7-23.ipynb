{
 "cells": [
  {
   "cell_type": "code",
   "execution_count": 25,
   "metadata": {},
   "outputs": [
    {
     "name": "stdout",
     "output_type": "stream",
     "text": [
      "(4, 4)\n",
      "2\n",
      "16\n",
      "4\n",
      "[[3.25 7.19 8.66 7.36]\n",
      " [9.35 7.26 4.76 7.61]\n",
      " [1.75 5.14 3.6  7.88]\n",
      " [5.45 6.29 3.22 7.19]]\n",
      "1.75\n",
      "9.35\n",
      "95.96000000000001\n",
      "[1.75 5.14 3.22 7.19]\n",
      "[3.25 4.76 1.75 3.22]\n",
      "[[3.25 7.19 8.66 7.36 9.35 7.26 4.76 7.61 1.75 5.14 3.6  7.88 5.45 6.29\n",
      "  3.22 7.19]]\n",
      "8\n",
      "[1 1 0 2]\n",
      "[2 0 3 3]\n"
     ]
    },
    {
     "data": {
      "text/plain": [
       "array([[3.25],\n",
       "       [7.19],\n",
       "       [8.66],\n",
       "       [7.36],\n",
       "       [9.35],\n",
       "       [7.26],\n",
       "       [4.76],\n",
       "       [7.61],\n",
       "       [1.75],\n",
       "       [5.14],\n",
       "       [3.6 ],\n",
       "       [7.88],\n",
       "       [5.45],\n",
       "       [6.29],\n",
       "       [3.22],\n",
       "       [7.19]])"
      ]
     },
     "execution_count": 25,
     "metadata": {},
     "output_type": "execute_result"
    }
   ],
   "source": [
    "import numpy as np\n",
    "a = np.array([[3.25,7.19,8.66,7.36],\n",
    "              [9.35,7.26,4.76,7.61],\n",
    "              [1.75,5.14,3.60,7.88],\n",
    "              [5.45,6.29,3.22,7.19]])\n",
    "print (a.shape)\n",
    "print (a.ndim)\n",
    "print (a.size)\n",
    "print (len(a))\n",
    "print (a)\n",
    "a[2,2]\n",
    "a[2,:]\n",
    "a[:,1]\n",
    "a.reshape(8,2)\n",
    "print(a.min())\n",
    "print(a.max())\n",
    "print(a.sum())\n",
    "print(a.min(0))\n",
    "print(a.min(1))\n",
    "b=a.reshape(1,16)\n",
    "print(b)\n",
    "b.argmax()\n",
    "b.argmin()\n",
    "print(b.argmin())\n",
    "print(a.argmax(0))\n",
    "print(a.argmax(1))\n",
    "a.ndim\n",
    "c=a.reshape(-1)\n",
    "c\n",
    "c.ndim\n",
    "d=a.reshape(-1,1)\n",
    "d\n",
    "\n",
    "\n",
    "\n",
    "\n",
    "\n"
   ]
  }
 ],
 "metadata": {
  "kernelspec": {
   "display_name": "Python 3",
   "language": "python",
   "name": "python3"
  },
  "language_info": {
   "codemirror_mode": {
    "name": "ipython",
    "version": 3
   },
   "file_extension": ".py",
   "mimetype": "text/x-python",
   "name": "python",
   "nbconvert_exporter": "python",
   "pygments_lexer": "ipython3",
   "version": "3.11.4"
  },
  "orig_nbformat": 4
 },
 "nbformat": 4,
 "nbformat_minor": 2
}
