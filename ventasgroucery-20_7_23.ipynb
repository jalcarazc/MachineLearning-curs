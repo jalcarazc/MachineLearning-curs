{
 "cells": [
  {
   "cell_type": "code",
   "execution_count": 4,
   "metadata": {},
   "outputs": [
    {
     "data": {
      "text/html": [
       "<div>\n",
       "<style scoped>\n",
       "    .dataframe tbody tr th:only-of-type {\n",
       "        vertical-align: middle;\n",
       "    }\n",
       "\n",
       "    .dataframe tbody tr th {\n",
       "        vertical-align: top;\n",
       "    }\n",
       "\n",
       "    .dataframe thead th {\n",
       "        text-align: right;\n",
       "    }\n",
       "</style>\n",
       "<table border=\"1\" class=\"dataframe\">\n",
       "  <thead>\n",
       "    <tr style=\"text-align: right;\">\n",
       "      <th></th>\n",
       "      <th>Order ID</th>\n",
       "      <th>Product</th>\n",
       "      <th>Category</th>\n",
       "      <th>Unit Price</th>\n",
       "      <th>Quantity</th>\n",
       "      <th>Customer</th>\n",
       "      <th>Ship City</th>\n",
       "      <th>Ship Country</th>\n",
       "      <th>Order Date</th>\n",
       "    </tr>\n",
       "  </thead>\n",
       "  <tbody>\n",
       "    <tr>\n",
       "      <th>0</th>\n",
       "      <td>10248</td>\n",
       "      <td>Singaporean Hokkien Fried Mee</td>\n",
       "      <td>Grains/Cereals</td>\n",
       "      <td>9.8</td>\n",
       "      <td>1</td>\n",
       "      <td>Vins et alcools Chevalier</td>\n",
       "      <td>Reims</td>\n",
       "      <td>France</td>\n",
       "      <td>2014-08-04</td>\n",
       "    </tr>\n",
       "    <tr>\n",
       "      <th>1</th>\n",
       "      <td>10248</td>\n",
       "      <td>Mozzarella di Giovanni</td>\n",
       "      <td>Dairy Products</td>\n",
       "      <td>34.8</td>\n",
       "      <td>5</td>\n",
       "      <td>Vins et alcools Chevalier</td>\n",
       "      <td>Reims</td>\n",
       "      <td>France</td>\n",
       "      <td>2014-08-04</td>\n",
       "    </tr>\n",
       "    <tr>\n",
       "      <th>2</th>\n",
       "      <td>10248</td>\n",
       "      <td>Queso Cabrales</td>\n",
       "      <td>Dairy Products</td>\n",
       "      <td>14.0</td>\n",
       "      <td>12</td>\n",
       "      <td>Vins et alcools Chevalier</td>\n",
       "      <td>Reims</td>\n",
       "      <td>France</td>\n",
       "      <td>2014-08-04</td>\n",
       "    </tr>\n",
       "    <tr>\n",
       "      <th>3</th>\n",
       "      <td>10249</td>\n",
       "      <td>Tofu</td>\n",
       "      <td>Produce</td>\n",
       "      <td>18.6</td>\n",
       "      <td>9</td>\n",
       "      <td>Toms Spezialitäten</td>\n",
       "      <td>Münster</td>\n",
       "      <td>Germany</td>\n",
       "      <td>2014-08-05</td>\n",
       "    </tr>\n",
       "    <tr>\n",
       "      <th>4</th>\n",
       "      <td>10249</td>\n",
       "      <td>Manjimup Dried Apples</td>\n",
       "      <td>Produce</td>\n",
       "      <td>42.4</td>\n",
       "      <td>40</td>\n",
       "      <td>Toms Spezialitäten</td>\n",
       "      <td>Münster</td>\n",
       "      <td>Germany</td>\n",
       "      <td>2014-08-05</td>\n",
       "    </tr>\n",
       "    <tr>\n",
       "      <th>5</th>\n",
       "      <td>10250</td>\n",
       "      <td>Louisiana Fiery Hot Pepper Sauce</td>\n",
       "      <td>Condiments</td>\n",
       "      <td>16.8</td>\n",
       "      <td>15</td>\n",
       "      <td>Hanari Carnes</td>\n",
       "      <td>Rio de Janeiro</td>\n",
       "      <td>Brazil</td>\n",
       "      <td>2014-08-08</td>\n",
       "    </tr>\n",
       "    <tr>\n",
       "      <th>6</th>\n",
       "      <td>10250</td>\n",
       "      <td>Jack's New England Clam Chowder</td>\n",
       "      <td>Seafood</td>\n",
       "      <td>7.7</td>\n",
       "      <td>10</td>\n",
       "      <td>Hanari Carnes</td>\n",
       "      <td>Rio de Janeiro</td>\n",
       "      <td>Brazil</td>\n",
       "      <td>2014-08-08</td>\n",
       "    </tr>\n",
       "    <tr>\n",
       "      <th>7</th>\n",
       "      <td>10250</td>\n",
       "      <td>Manjimup Dried Apples</td>\n",
       "      <td>Produce</td>\n",
       "      <td>42.4</td>\n",
       "      <td>35</td>\n",
       "      <td>Hanari Carnes</td>\n",
       "      <td>Rio de Janeiro</td>\n",
       "      <td>Brazil</td>\n",
       "      <td>2014-08-08</td>\n",
       "    </tr>\n",
       "    <tr>\n",
       "      <th>8</th>\n",
       "      <td>10251</td>\n",
       "      <td>Louisiana Fiery Hot Pepper Sauce</td>\n",
       "      <td>Condiments</td>\n",
       "      <td>16.8</td>\n",
       "      <td>20</td>\n",
       "      <td>Victuailles en stock</td>\n",
       "      <td>Lyon</td>\n",
       "      <td>France</td>\n",
       "      <td>2014-08-08</td>\n",
       "    </tr>\n",
       "    <tr>\n",
       "      <th>9</th>\n",
       "      <td>10251</td>\n",
       "      <td>Gustaf's Knäckebröd</td>\n",
       "      <td>Grains/Cereals</td>\n",
       "      <td>16.8</td>\n",
       "      <td>6</td>\n",
       "      <td>Victuailles en stock</td>\n",
       "      <td>Lyon</td>\n",
       "      <td>France</td>\n",
       "      <td>2014-08-08</td>\n",
       "    </tr>\n",
       "  </tbody>\n",
       "</table>\n",
       "</div>"
      ],
      "text/plain": [
       "   Order ID                           Product        Category  Unit Price  \\\n",
       "0     10248     Singaporean Hokkien Fried Mee  Grains/Cereals         9.8   \n",
       "1     10248            Mozzarella di Giovanni  Dairy Products        34.8   \n",
       "2     10248                    Queso Cabrales  Dairy Products        14.0   \n",
       "3     10249                              Tofu         Produce        18.6   \n",
       "4     10249             Manjimup Dried Apples         Produce        42.4   \n",
       "5     10250  Louisiana Fiery Hot Pepper Sauce      Condiments        16.8   \n",
       "6     10250   Jack's New England Clam Chowder         Seafood         7.7   \n",
       "7     10250             Manjimup Dried Apples         Produce        42.4   \n",
       "8     10251  Louisiana Fiery Hot Pepper Sauce      Condiments        16.8   \n",
       "9     10251               Gustaf's Knäckebröd  Grains/Cereals        16.8   \n",
       "\n",
       "   Quantity                   Customer       Ship City Ship Country Order Date  \n",
       "0         1  Vins et alcools Chevalier           Reims       France 2014-08-04  \n",
       "1         5  Vins et alcools Chevalier           Reims       France 2014-08-04  \n",
       "2        12  Vins et alcools Chevalier           Reims       France 2014-08-04  \n",
       "3         9         Toms Spezialitäten         Münster      Germany 2014-08-05  \n",
       "4        40         Toms Spezialitäten         Münster      Germany 2014-08-05  \n",
       "5        15              Hanari Carnes  Rio de Janeiro       Brazil 2014-08-08  \n",
       "6        10              Hanari Carnes  Rio de Janeiro       Brazil 2014-08-08  \n",
       "7        35              Hanari Carnes  Rio de Janeiro       Brazil 2014-08-08  \n",
       "8        20       Victuailles en stock            Lyon       France 2014-08-08  \n",
       "9         6       Victuailles en stock            Lyon       France 2014-08-08  "
      ]
     },
     "execution_count": 4,
     "metadata": {},
     "output_type": "execute_result"
    }
   ],
   "source": [
    "#Processar dades per poder fer models predictius, en aquest cas farem\n",
    "#VentasGroucery_Meses.xlsx. Per poder llegir excel cal instal·lar openpyxl\n",
    "#tb cal pandas\n",
    "\n",
    "import pandas as pd\n",
    "agosto2014 = pd.read_excel(\"C:/Curs Python/VentasGroucery_Meses.xlsx\", sheet_name=\"Ventas Agosto 2014\")\n",
    "agosto2014\n",
    "septiembre2014 = pd.read_excel(\"C:/Curs Python/VentasGroucery_Meses.xlsx\", sheet_name=\"Ventas Septiembre 2014\")\n",
    "septiembre2014\n",
    "octubre2014 = pd.read_excel(\"C:/Curs Python/VentasGroucery_Meses.xlsx\", sheet_name=\"Ventas Octubre 2014\")\n",
    "octubre2014\n",
    "\n",
    "#Per juntar 2 o més dataframes o fulls d'excel en un de sol, cal fer servir concat (junta en vertical)\n",
    "#han de tenir el mateix núm de columnes i els mateixos noms\n",
    "\n",
    "trimestre = pd.concat([agosto2014, septiembre2014, octubre2014])\n",
    "trimestre.head(10)\n"
   ]
  },
  {
   "cell_type": "code",
   "execution_count": 5,
   "metadata": {},
   "outputs": [
    {
     "data": {
      "text/html": [
       "<div>\n",
       "<style scoped>\n",
       "    .dataframe tbody tr th:only-of-type {\n",
       "        vertical-align: middle;\n",
       "    }\n",
       "\n",
       "    .dataframe tbody tr th {\n",
       "        vertical-align: top;\n",
       "    }\n",
       "\n",
       "    .dataframe thead th {\n",
       "        text-align: right;\n",
       "    }\n",
       "</style>\n",
       "<table border=\"1\" class=\"dataframe\">\n",
       "  <thead>\n",
       "    <tr style=\"text-align: right;\">\n",
       "      <th></th>\n",
       "      <th>Order ID</th>\n",
       "      <th>Product</th>\n",
       "      <th>Category</th>\n",
       "      <th>Unit Price</th>\n",
       "      <th>Quantity</th>\n",
       "      <th>Customer</th>\n",
       "      <th>Ship City</th>\n",
       "      <th>Ship Country</th>\n",
       "      <th>Order Date</th>\n",
       "      <th>Import</th>\n",
       "    </tr>\n",
       "  </thead>\n",
       "  <tbody>\n",
       "    <tr>\n",
       "      <th>0</th>\n",
       "      <td>10248</td>\n",
       "      <td>Singaporean Hokkien Fried Mee</td>\n",
       "      <td>Grains/Cereals</td>\n",
       "      <td>9.8</td>\n",
       "      <td>1</td>\n",
       "      <td>Vins et alcools Chevalier</td>\n",
       "      <td>Reims</td>\n",
       "      <td>France</td>\n",
       "      <td>2014-08-04</td>\n",
       "      <td>9.8</td>\n",
       "    </tr>\n",
       "    <tr>\n",
       "      <th>1</th>\n",
       "      <td>10248</td>\n",
       "      <td>Mozzarella di Giovanni</td>\n",
       "      <td>Dairy Products</td>\n",
       "      <td>34.8</td>\n",
       "      <td>5</td>\n",
       "      <td>Vins et alcools Chevalier</td>\n",
       "      <td>Reims</td>\n",
       "      <td>France</td>\n",
       "      <td>2014-08-04</td>\n",
       "      <td>174.0</td>\n",
       "    </tr>\n",
       "  </tbody>\n",
       "</table>\n",
       "</div>"
      ],
      "text/plain": [
       "   Order ID                        Product        Category  Unit Price  \\\n",
       "0     10248  Singaporean Hokkien Fried Mee  Grains/Cereals         9.8   \n",
       "1     10248         Mozzarella di Giovanni  Dairy Products        34.8   \n",
       "\n",
       "   Quantity                   Customer Ship City Ship Country Order Date  \\\n",
       "0         1  Vins et alcools Chevalier     Reims       France 2014-08-04   \n",
       "1         5  Vins et alcools Chevalier     Reims       France 2014-08-04   \n",
       "\n",
       "   Import  \n",
       "0     9.8  \n",
       "1   174.0  "
      ]
     },
     "execution_count": 5,
     "metadata": {},
     "output_type": "execute_result"
    }
   ],
   "source": [
    "#càlcul de l'import de venda = Unit Price * Quantity\n",
    "\n",
    "trimestre['Import']=trimestre['Unit Price']*trimestre['Quantity']\n",
    "trimestre.head(2)"
   ]
  },
  {
   "cell_type": "code",
   "execution_count": 6,
   "metadata": {},
   "outputs": [
    {
     "data": {
      "text/plain": [
       "array(['Grains/Cereals', 'Dairy Products', 'Produce', 'Condiments',\n",
       "       'Seafood', 'Confections', 'Beverages', 'Meat/Poultry'],\n",
       "      dtype=object)"
      ]
     },
     "execution_count": 6,
     "metadata": {},
     "output_type": "execute_result"
    }
   ],
   "source": [
    "#Per veure els valors únics d'un camp (en vertical sense unique o en horitzontal amb unique):\n",
    "\n",
    "trimestre['Category'].unique()\n",
    "\n"
   ]
  },
  {
   "cell_type": "code",
   "execution_count": 7,
   "metadata": {},
   "outputs": [
    {
     "data": {
      "text/plain": [
       "0     Grains/Cereals\n",
       "1     Dairy Products\n",
       "2     Dairy Products\n",
       "3            Produce\n",
       "4            Produce\n",
       "           ...      \n",
       "52         Beverages\n",
       "53         Beverages\n",
       "54           Seafood\n",
       "55       Confections\n",
       "56         Beverages\n",
       "Name: Category, Length: 185, dtype: object"
      ]
     },
     "execution_count": 7,
     "metadata": {},
     "output_type": "execute_result"
    }
   ],
   "source": [
    "trimestre['Category']"
   ]
  },
  {
   "cell_type": "code",
   "execution_count": 8,
   "metadata": {},
   "outputs": [
    {
     "data": {
      "text/plain": [
       "array(['Grains/Cereals', 'Dairy Products', 'Produce', 'Condiments',\n",
       "       'Seafood', 'Confections', 'Beverages', 'Meat/Poultry'],\n",
       "      dtype=object)"
      ]
     },
     "execution_count": 8,
     "metadata": {},
     "output_type": "execute_result"
    }
   ],
   "source": [
    "#per guardar-ho en un altre datafreme, no nmés imprimir la lectura:\n",
    "\n",
    "categories = trimestre['Category'].unique()\n",
    "categories"
   ]
  },
  {
   "cell_type": "code",
   "execution_count": 9,
   "metadata": {},
   "outputs": [
    {
     "data": {
      "text/plain": [
       "Category\n",
       "Beverages         13606.0\n",
       "Condiments         6375.6\n",
       "Confections       17936.3\n",
       "Dairy Products    16594.0\n",
       "Grains/Cereals     2275.2\n",
       "Meat/Poultry      11067.9\n",
       "Produce            6141.0\n",
       "Seafood           10353.3\n",
       "Name: Import, dtype: float64"
      ]
     },
     "execution_count": 9,
     "metadata": {},
     "output_type": "execute_result"
    }
   ],
   "source": [
    "#Per agrupar i veure dades resumides\n",
    "#es pot fer sum(), mean(), max(), min(), count()\n",
    "\n",
    "trimestre.groupby(['Category']).Import.sum()\n"
   ]
  },
  {
   "cell_type": "code",
   "execution_count": 10,
   "metadata": {},
   "outputs": [
    {
     "data": {
      "text/plain": [
       "Category   Ship Country\n",
       "Beverages  Austria          860.8\n",
       "           Belgium          441.6\n",
       "           Brazil          1356.8\n",
       "           Finland          920.0\n",
       "           France          1104.0\n",
       "                            ...  \n",
       "Seafood    Mexico          1040.8\n",
       "           Spain            919.2\n",
       "           Sweden           492.5\n",
       "           Switzerland      380.0\n",
       "           USA             1645.0\n",
       "Name: Import, Length: 83, dtype: float64"
      ]
     },
     "execution_count": 10,
     "metadata": {},
     "output_type": "execute_result"
    }
   ],
   "source": [
    "trimestre.groupby(['Category','Ship Country']).Import.sum()"
   ]
  },
  {
   "cell_type": "code",
   "execution_count": 12,
   "metadata": {},
   "outputs": [
    {
     "data": {
      "text/plain": [
       "Category\n",
       "Beverages         39\n",
       "Condiments        19\n",
       "Confections       30\n",
       "Dairy Products    35\n",
       "Grains/Cereals    11\n",
       "Meat/Poultry      15\n",
       "Produce           10\n",
       "Seafood           26\n",
       "Name: Unit Price, dtype: int64"
      ]
     },
     "execution_count": 12,
     "metadata": {},
     "output_type": "execute_result"
    }
   ],
   "source": [
    "trimestre.groupby(['Category'])[\"Unit Price\"].count()\n"
   ]
  },
  {
   "cell_type": "code",
   "execution_count": 14,
   "metadata": {},
   "outputs": [
    {
     "data": {
      "text/plain": [
       "Category\n",
       "Beverages         13606.0\n",
       "Condiments         6375.6\n",
       "Confections       17936.3\n",
       "Dairy Products    16594.0\n",
       "Grains/Cereals     2275.2\n",
       "Meat/Poultry      11067.9\n",
       "Produce            6141.0\n",
       "Seafood           10353.3\n",
       "Name: Import, dtype: float64"
      ]
     },
     "execution_count": 14,
     "metadata": {},
     "output_type": "execute_result"
    }
   ],
   "source": [
    "categories = trimestre.groupby(['Category']).Import.sum()\n",
    "categories"
   ]
  },
  {
   "cell_type": "code",
   "execution_count": 15,
   "metadata": {},
   "outputs": [
    {
     "data": {
      "text/html": [
       "<div>\n",
       "<style scoped>\n",
       "    .dataframe tbody tr th:only-of-type {\n",
       "        vertical-align: middle;\n",
       "    }\n",
       "\n",
       "    .dataframe tbody tr th {\n",
       "        vertical-align: top;\n",
       "    }\n",
       "\n",
       "    .dataframe thead th {\n",
       "        text-align: right;\n",
       "    }\n",
       "</style>\n",
       "<table border=\"1\" class=\"dataframe\">\n",
       "  <thead>\n",
       "    <tr style=\"text-align: right;\">\n",
       "      <th></th>\n",
       "      <th>Acumulat</th>\n",
       "    </tr>\n",
       "  </thead>\n",
       "  <tbody>\n",
       "  </tbody>\n",
       "</table>\n",
       "</div>"
      ],
      "text/plain": [
       "Empty DataFrame\n",
       "Columns: [Acumulat]\n",
       "Index: []"
      ]
     },
     "execution_count": 15,
     "metadata": {},
     "output_type": "execute_result"
    }
   ],
   "source": [
    "categoriesdf=pd.DataFrame(categories, columns=['Acumulat'])\n",
    "categoriesdf"
   ]
  },
  {
   "cell_type": "code",
   "execution_count": 27,
   "metadata": {},
   "outputs": [
    {
     "data": {
      "text/html": [
       "<div>\n",
       "<style scoped>\n",
       "    .dataframe tbody tr th:only-of-type {\n",
       "        vertical-align: middle;\n",
       "    }\n",
       "\n",
       "    .dataframe tbody tr th {\n",
       "        vertical-align: top;\n",
       "    }\n",
       "\n",
       "    .dataframe thead th {\n",
       "        text-align: right;\n",
       "    }\n",
       "</style>\n",
       "<table border=\"1\" class=\"dataframe\">\n",
       "  <thead>\n",
       "    <tr style=\"text-align: right;\">\n",
       "      <th></th>\n",
       "      <th>Category</th>\n",
       "      <th>Import</th>\n",
       "    </tr>\n",
       "  </thead>\n",
       "  <tbody>\n",
       "    <tr>\n",
       "      <th>0</th>\n",
       "      <td>Beverages</td>\n",
       "      <td>13606.0</td>\n",
       "    </tr>\n",
       "    <tr>\n",
       "      <th>1</th>\n",
       "      <td>Condiments</td>\n",
       "      <td>6375.6</td>\n",
       "    </tr>\n",
       "    <tr>\n",
       "      <th>2</th>\n",
       "      <td>Confections</td>\n",
       "      <td>17936.3</td>\n",
       "    </tr>\n",
       "    <tr>\n",
       "      <th>3</th>\n",
       "      <td>Dairy Products</td>\n",
       "      <td>16594.0</td>\n",
       "    </tr>\n",
       "    <tr>\n",
       "      <th>4</th>\n",
       "      <td>Grains/Cereals</td>\n",
       "      <td>2275.2</td>\n",
       "    </tr>\n",
       "    <tr>\n",
       "      <th>5</th>\n",
       "      <td>Meat/Poultry</td>\n",
       "      <td>11067.9</td>\n",
       "    </tr>\n",
       "    <tr>\n",
       "      <th>6</th>\n",
       "      <td>Produce</td>\n",
       "      <td>6141.0</td>\n",
       "    </tr>\n",
       "    <tr>\n",
       "      <th>7</th>\n",
       "      <td>Seafood</td>\n",
       "      <td>10353.3</td>\n",
       "    </tr>\n",
       "  </tbody>\n",
       "</table>\n",
       "</div>"
      ],
      "text/plain": [
       "         Category   Import\n",
       "0       Beverages  13606.0\n",
       "1      Condiments   6375.6\n",
       "2     Confections  17936.3\n",
       "3  Dairy Products  16594.0\n",
       "4  Grains/Cereals   2275.2\n",
       "5    Meat/Poultry  11067.9\n",
       "6         Produce   6141.0\n",
       "7         Seafood  10353.3"
      ]
     },
     "execution_count": 27,
     "metadata": {},
     "output_type": "execute_result"
    }
   ],
   "source": [
    "categories2 = trimestre.groupby(['Category']).Import.sum()\n",
    "categoriesdf=pd.DataFrame(categories2, columns=['Import'])\n",
    "categoriesdf=categoriesdf.reset_index()\n",
    "categoriesdf"
   ]
  },
  {
   "cell_type": "code",
   "execution_count": 28,
   "metadata": {},
   "outputs": [
    {
     "data": {
      "text/html": [
       "<div>\n",
       "<style scoped>\n",
       "    .dataframe tbody tr th:only-of-type {\n",
       "        vertical-align: middle;\n",
       "    }\n",
       "\n",
       "    .dataframe tbody tr th {\n",
       "        vertical-align: top;\n",
       "    }\n",
       "\n",
       "    .dataframe thead th {\n",
       "        text-align: right;\n",
       "    }\n",
       "</style>\n",
       "<table border=\"1\" class=\"dataframe\">\n",
       "  <thead>\n",
       "    <tr style=\"text-align: right;\">\n",
       "      <th></th>\n",
       "      <th>Category</th>\n",
       "      <th>Quantity</th>\n",
       "    </tr>\n",
       "  </thead>\n",
       "  <tbody>\n",
       "    <tr>\n",
       "      <th>0</th>\n",
       "      <td>Beverages</td>\n",
       "      <td>904</td>\n",
       "    </tr>\n",
       "    <tr>\n",
       "      <th>1</th>\n",
       "      <td>Condiments</td>\n",
       "      <td>403</td>\n",
       "    </tr>\n",
       "    <tr>\n",
       "      <th>2</th>\n",
       "      <td>Confections</td>\n",
       "      <td>663</td>\n",
       "    </tr>\n",
       "    <tr>\n",
       "      <th>3</th>\n",
       "      <td>Dairy Products</td>\n",
       "      <td>694</td>\n",
       "    </tr>\n",
       "    <tr>\n",
       "      <th>4</th>\n",
       "      <td>Grains/Cereals</td>\n",
       "      <td>117</td>\n",
       "    </tr>\n",
       "    <tr>\n",
       "      <th>5</th>\n",
       "      <td>Meat/Poultry</td>\n",
       "      <td>287</td>\n",
       "    </tr>\n",
       "    <tr>\n",
       "      <th>6</th>\n",
       "      <td>Produce</td>\n",
       "      <td>210</td>\n",
       "    </tr>\n",
       "    <tr>\n",
       "      <th>7</th>\n",
       "      <td>Seafood</td>\n",
       "      <td>621</td>\n",
       "    </tr>\n",
       "  </tbody>\n",
       "</table>\n",
       "</div>"
      ],
      "text/plain": [
       "         Category  Quantity\n",
       "0       Beverages       904\n",
       "1      Condiments       403\n",
       "2     Confections       663\n",
       "3  Dairy Products       694\n",
       "4  Grains/Cereals       117\n",
       "5    Meat/Poultry       287\n",
       "6         Produce       210\n",
       "7         Seafood       621"
      ]
     },
     "execution_count": 28,
     "metadata": {},
     "output_type": "execute_result"
    }
   ],
   "source": [
    "#pràctica\n",
    "\n",
    "categories3 = trimestre.groupby(['Category']).Quantity.sum()\n",
    "categoriesdf2=pd.DataFrame(categories3, columns=['Quantity'])\n",
    "categoriesdf2=categoriesdf2.reset_index()\n",
    "categoriesdf2"
   ]
  },
  {
   "cell_type": "code",
   "execution_count": 29,
   "metadata": {},
   "outputs": [
    {
     "data": {
      "text/html": [
       "<div>\n",
       "<style scoped>\n",
       "    .dataframe tbody tr th:only-of-type {\n",
       "        vertical-align: middle;\n",
       "    }\n",
       "\n",
       "    .dataframe tbody tr th {\n",
       "        vertical-align: top;\n",
       "    }\n",
       "\n",
       "    .dataframe thead th {\n",
       "        text-align: right;\n",
       "    }\n",
       "</style>\n",
       "<table border=\"1\" class=\"dataframe\">\n",
       "  <thead>\n",
       "    <tr style=\"text-align: right;\">\n",
       "      <th></th>\n",
       "      <th>Category</th>\n",
       "      <th>Import</th>\n",
       "      <th>Quantity</th>\n",
       "    </tr>\n",
       "  </thead>\n",
       "  <tbody>\n",
       "    <tr>\n",
       "      <th>0</th>\n",
       "      <td>Beverages</td>\n",
       "      <td>13606.0</td>\n",
       "      <td>904</td>\n",
       "    </tr>\n",
       "    <tr>\n",
       "      <th>1</th>\n",
       "      <td>Condiments</td>\n",
       "      <td>6375.6</td>\n",
       "      <td>403</td>\n",
       "    </tr>\n",
       "    <tr>\n",
       "      <th>2</th>\n",
       "      <td>Confections</td>\n",
       "      <td>17936.3</td>\n",
       "      <td>663</td>\n",
       "    </tr>\n",
       "    <tr>\n",
       "      <th>3</th>\n",
       "      <td>Dairy Products</td>\n",
       "      <td>16594.0</td>\n",
       "      <td>694</td>\n",
       "    </tr>\n",
       "    <tr>\n",
       "      <th>4</th>\n",
       "      <td>Grains/Cereals</td>\n",
       "      <td>2275.2</td>\n",
       "      <td>117</td>\n",
       "    </tr>\n",
       "    <tr>\n",
       "      <th>5</th>\n",
       "      <td>Meat/Poultry</td>\n",
       "      <td>11067.9</td>\n",
       "      <td>287</td>\n",
       "    </tr>\n",
       "    <tr>\n",
       "      <th>6</th>\n",
       "      <td>Produce</td>\n",
       "      <td>6141.0</td>\n",
       "      <td>210</td>\n",
       "    </tr>\n",
       "    <tr>\n",
       "      <th>7</th>\n",
       "      <td>Seafood</td>\n",
       "      <td>10353.3</td>\n",
       "      <td>621</td>\n",
       "    </tr>\n",
       "  </tbody>\n",
       "</table>\n",
       "</div>"
      ],
      "text/plain": [
       "         Category   Import  Quantity\n",
       "0       Beverages  13606.0       904\n",
       "1      Condiments   6375.6       403\n",
       "2     Confections  17936.3       663\n",
       "3  Dairy Products  16594.0       694\n",
       "4  Grains/Cereals   2275.2       117\n",
       "5    Meat/Poultry  11067.9       287\n",
       "6         Produce   6141.0       210\n",
       "7         Seafood  10353.3       621"
      ]
     },
     "execution_count": 29,
     "metadata": {},
     "output_type": "execute_result"
    }
   ],
   "source": [
    "#Amb merge podem veure les dades resumides per categoria, que és el camp comú\n",
    "\n",
    "agrupacio_final = pd.merge(categoriesdf,categoriesdf2, on=\"Category\")\n",
    "agrupacio_final\n",
    "\n",
    "#quan femmerge, la primera taula és l'esquerra i la segona la dreta\n",
    "\n"
   ]
  },
  {
   "cell_type": "code",
   "execution_count": null,
   "metadata": {},
   "outputs": [],
   "source": []
  }
 ],
 "metadata": {
  "kernelspec": {
   "display_name": "Python 3",
   "language": "python",
   "name": "python3"
  },
  "language_info": {
   "codemirror_mode": {
    "name": "ipython",
    "version": 3
   },
   "file_extension": ".py",
   "mimetype": "text/x-python",
   "name": "python",
   "nbconvert_exporter": "python",
   "pygments_lexer": "ipython3",
   "version": "3.11.4"
  },
  "orig_nbformat": 4
 },
 "nbformat": 4,
 "nbformat_minor": 2
}
